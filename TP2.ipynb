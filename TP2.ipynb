{
 "cells": [
  {
   "cell_type": "code",
   "execution_count": 12,
   "metadata": {},
   "outputs": [],
   "source": [
    "import numpy as np\n",
    "np.set_printoptions(threshold=10000,suppress=True)\n",
    "import pandas as pd\n",
    "import warnings\n",
    "import matplotlib.pyplot as plt\n",
    "from sklearn.tree import DecisionTreeClassifier\n",
    "from sklearn.model_selection import train_test_split\n",
    "from sklearn.neighbors import KNeighborsClassifier\n",
    "from sklearn.neural_network import MLPClassifier\n",
    "from sklearn.metrics import accuracy_score, recall_score, precision_score\n",
    "\n",
    "warnings.filterwarnings('ignore')\n",
    "\n",
    "def scoring(y_pred,y_test):\n",
    "    print('accuracy  : {}'.format(accuracy_score(y_pred, y_test)))\n",
    "    print('recall    : {}'.format(recall_score(y_pred, y_test)))\n",
    "    print('precision : {}'.format(precision_score(y_pred, y_test)))"
   ]
  },
  {
   "cell_type": "markdown",
   "metadata": {},
   "source": [
    "## Récupération des données "
   ]
  },
  {
   "cell_type": "code",
   "execution_count": 13,
   "metadata": {
    "scrolled": false
   },
   "outputs": [
    {
     "name": "stdout",
     "output_type": "stream",
     "text": [
      "(4375,)\n",
      "(4375, 13)\n"
     ]
    },
    {
     "data": {
      "image/png": "[encoded data removed]",
      "text/plain": [
       "<Figure size 432x288 with 1 Axes>"
      ]
     },
     "metadata": {
      "needs_background": "light"
     },
     "output_type": "display_data"
    }
   ],
   "source": [
    "datapd = pd.read_csv('./data/credit_scoring.csv', sep=';')\n",
    "\n",
    "data = np.array(datapd)\n",
    "\n",
    "y = data[:, -1] # for last column\n",
    "X = data[:, :-1] # for all but last column\n",
    "\n",
    "print(y.shape)\n",
    "print(X.shape)\n",
    "\n",
    "plt.hist(y)\n",
    "plt.show()"
   ]
  },
  {
   "cell_type": "markdown",
   "metadata": {},
   "source": [
    "## Application des modèles "
   ]
  },
  {
   "cell_type": "code",
   "execution_count": 15,
   "metadata": {},
   "outputs": [],
   "source": [
    "X_train, X_test, y_train, y_test = train_test_split(X, y, test_size=0.5, random_state=1)"
   ]
  },
  {
   "cell_type": "code",
   "execution_count": 16,
   "metadata": {},
   "outputs": [
    {
     "name": "stdout",
     "output_type": "stream",
     "text": [
      "accuracy  : 0.7271480804387569\n",
      "recall    : 0.8223383409536251\n",
      "precision : 0.7948232323232324\n"
     ]
    }
   ],
   "source": [
    "clf = DecisionTreeClassifier(random_state=0)\n",
    "clf.fit(X_train,y_train)\n",
    "y_pred = clf.predict(X_test)\n",
    "\n",
    "scoring(y_pred,y_test)"
   ]
  },
  {
   "cell_type": "code",
   "execution_count": 17,
   "metadata": {},
   "outputs": [
    {
     "name": "stdout",
     "output_type": "stream",
     "text": [
      "accuracy  : 0.7248628884826326\n",
      "recall    : 0.7709713024282561\n",
      "precision : 0.8819444444444444\n"
     ]
    }
   ],
   "source": [
    "neigh = KNeighborsClassifier(n_neighbors=5)\n",
    "neigh.fit(X_train, y_train)\n",
    "\n",
    "y_pred = neigh.predict(X_test)\n",
    "\n",
    "scoring(y_pred,y_test)"
   ]
  },
  {
   "cell_type": "code",
   "execution_count": 18,
   "metadata": {
    "scrolled": true
   },
   "outputs": [
    {
     "name": "stdout",
     "output_type": "stream",
     "text": [
      "accuracy  : 0.75\n",
      "recall    : 0.7882156753752084\n",
      "precision : 0.8952020202020202\n"
     ]
    }
   ],
   "source": [
    "clf = MLPClassifier(hidden_layer_sizes = (40,20), random_state=1, max_iter=300).fit(X_train, y_train)\n",
    "\n",
    "y_pred = clf.predict(X_test)\n",
    "\n",
    "scoring(y_pred,y_test)"
   ]
  },
  {
   "cell_type": "markdown",
   "metadata": {},
   "source": [
    "### Choix du modèle :\n",
    "\n",
    "Dans le cas de l'attribution de crédits, il est très important de ne pas donner de crédit à des gens non fiables (limiter les faux positifs). C'est donc la précision qui nous intéresse le plus, et non le rappel. \n",
    "\n",
    "En prenant en compte ce critère d'évaluation, le réseau de neurone nous donne une 'accuracy' meilleure, en plus de favoriser la precision au rappel. C'est donc ce modèle qui est favorable à notre problème, et donne les meilleurs résultats."
   ]
  },
  {
   "cell_type": "markdown",
   "metadata": {},
   "source": [
    "## Entrainement avec normalisation des données :"
   ]
  },
  {
   "cell_type": "code",
   "execution_count": 19,
   "metadata": {},
   "outputs": [
    {
     "name": "stdout",
     "output_type": "stream",
     "text": [
      "--------Decision tree--------\n",
      "accuracy  : 0.7271480804387569\n",
      "recall    : 0.8223383409536251\n",
      "precision : 0.7948232323232324\n",
      "None\n",
      "--------Knn--------\n",
      "accuracy  : 0.7248628884826326\n",
      "recall    : 0.7709713024282561\n",
      "precision : 0.8819444444444444\n",
      "None\n",
      "--------RN--------\n",
      "accuracy  : 0.75\n",
      "recall    : 0.7882156753752084\n",
      "precision : 0.8952020202020202\n",
      "None\n"
     ]
    }
   ],
   "source": [
    "from sklearn.preprocessing import StandardScaler\n",
    "scaler = StandardScaler()\n",
    "\n",
    "data = pd.read_csv('./data/credit_scoring.csv', sep=';')\n",
    "data = np.array(data)\n",
    "\n",
    "y = data[:, -1] # for last column\n",
    "X = data[:, :-1] # for all but last column\n",
    "\n",
    "scaler.fit(X)\n",
    "X_norm = scaler.transform(X)\n",
    "\n",
    "\n",
    "def application_modeles(X_norm,y):\n",
    "    X_train, X_test, y_train, y_test = train_test_split(X, y, test_size=0.5, random_state=1)\n",
    "\n",
    "    # Decision tree : \n",
    "    print('--------Decision tree--------')\n",
    "    clf = DecisionTreeClassifier(random_state=0)\n",
    "    clf.fit(X_train,y_train)\n",
    "    y_pred = clf.predict(X_test)\n",
    "    print(scoring(y_pred,y_test))\n",
    "\n",
    "    # Knn :\n",
    "    print('--------Knn--------')\n",
    "    neigh = KNeighborsClassifier(n_neighbors=5)\n",
    "    neigh.fit(X_train, y_train)\n",
    "    y_pred = neigh.predict(X_test)\n",
    "    print(scoring(y_pred,y_test))\n",
    "\n",
    "    # RN : \n",
    "    print('--------RN--------')\n",
    "    clf = MLPClassifier(hidden_layer_sizes = (40,20), random_state=1, max_iter=300).fit(X_train, y_train)\n",
    "    y_pred = clf.predict(X_test)\n",
    "    print(scoring(y_pred,y_test))\n",
    "\n",
    "application_modeles(X,y)"
   ]
  },
  {
   "cell_type": "markdown",
   "metadata": {},
   "source": [
    "### Conclusion\n",
    "\n",
    "On observe que les résultats ne changent pas pour l'arbre de décision, puisqu'il n'est pas sensible aux échelles de donénes, mais sont sensiblement améliorés sur les deux autres modèles (meilleur score d'accuracy). \n",
    "\n",
    "Le modèle le plus performant pour le moment est le réseau neuronal avec normalisation de données."
   ]
  },
  {
   "cell_type": "markdown",
   "metadata": {},
   "source": [
    "## Entrainement avec réduction de dimension : ACP"
   ]
  },
  {
   "cell_type": "code",
   "execution_count": 20,
   "metadata": {},
   "outputs": [
    {
     "name": "stdout",
     "output_type": "stream",
     "text": [
      "--------Decision tree--------\n",
      "accuracy  : 0.7271480804387569\n",
      "recall    : 0.8223383409536251\n",
      "precision : 0.7948232323232324\n",
      "None\n",
      "--------Knn--------\n",
      "accuracy  : 0.7248628884826326\n",
      "recall    : 0.7709713024282561\n",
      "precision : 0.8819444444444444\n",
      "None\n",
      "--------RN--------\n",
      "accuracy  : 0.75\n",
      "recall    : 0.7882156753752084\n",
      "precision : 0.8952020202020202\n",
      "None\n"
     ]
    }
   ],
   "source": [
    "from sklearn.preprocessing import StandardScaler\n",
    "from sklearn.decomposition import PCA\n",
    "scaler = StandardScaler()\n",
    "\n",
    "scaler.fit(X)\n",
    "X_norm = scaler.transform(X)\n",
    "\n",
    "pca = PCA(n_components=3)\n",
    "pca.fit(X)\n",
    "X_pca = pca.transform(X)\n",
    "\n",
    "X_pca = np.concatenate((X,X_pca), axis = 1)\n",
    "\n",
    "## Application des algorithmes\n",
    "application_modeles(X_pca,y)"
   ]
  },
  {
   "cell_type": "markdown",
   "metadata": {},
   "source": [
    "### Conclusion\n",
    "\n",
    "L'ACP permet d'améliorer très faiblement les résultats du KNN, mais ne change quasiment pas la performance globale des différents modèles. Les données ajoutées par l'ACP sont redondantes avec les données précédentes, et ne permettent pas d'améliorer l'entrainement des algorithmes.\n",
    "\n",
    "La précision du meilleur modèle est alors de 76%, et ne suffit pas à améliorer les résultats précédemment obtenus avec le RN + normalisation. \n",
    "\n",
    "On choisit donc de conserver le modèle précédent, réseau neuronale appliqué aux données normalisées."
   ]
  },
  {
   "cell_type": "markdown",
   "metadata": {},
   "source": [
    "## Selection de variables "
   ]
  },
  {
   "cell_type": "code",
   "execution_count": 21,
   "metadata": {
    "scrolled": true
   },
   "outputs": [
    {
     "name": "stdout",
     "output_type": "stream",
     "text": [
      "Index(['Income', 'Seniority', 'Price', 'Amount', 'Age', 'Assets', 'Expenses',\n",
      "       'Records', 'Time', 'Job', 'Debt', 'Home', 'Marital'],\n",
      "      dtype='object')\n"
     ]
    },
    {
     "data": {
      "image/png": "[encoded data removed]",
      "text/plain": [
       "<Figure size 432x288 with 1 Axes>"
      ]
     },
     "metadata": {
      "needs_background": "light"
     },
     "output_type": "display_data"
    }
   ],
   "source": [
    "from sklearn.ensemble import RandomForestClassifier\n",
    "\n",
    "X_train, X_test, y_train, y_test = train_test_split(X_norm, y, test_size=0.5, random_state=1)\n",
    "\n",
    "clf = RandomForestClassifier(n_estimators=100)\n",
    "clf.fit(X_train, y_train)\n",
    "importances=clf.feature_importances_\n",
    "std = np.std([tree.feature_importances_ for tree in clf.estimators_],axis=0)\n",
    "sorted_idx = np.argsort(importances)[::-1]\n",
    "features =datapd.columns\n",
    "print(features[sorted_idx])\n",
    "padding = np.arange(X_train.size/len(X_train)) + 0.5\n",
    "plt.barh(padding, importances[sorted_idx],xerr=std[sorted_idx], align='center')\n",
    "plt.yticks(padding, features[sorted_idx])\n",
    "plt.xlabel(\"Relative Importance\")\n",
    "plt.title(\"Variable Importance\")\n",
    "plt.show()"
   ]
  },
  {
   "cell_type": "code",
   "execution_count": 22,
   "metadata": {},
   "outputs": [
    {
     "data": {
      "image/png": "[encoded data removed]",
      "text/plain": [
       "<Figure size 432x288 with 1 Axes>"
      ]
     },
     "metadata": {
      "needs_background": "light"
     },
     "output_type": "display_data"
    }
   ],
   "source": [
    "KNN=KNeighborsClassifier(n_neighbors=5)\n",
    "scores=np.zeros(X_train.shape[1]+1)\n",
    "for f in np.arange(0, X_train.shape[1]+1):\n",
    " X1_f = X_train[:,sorted_idx[:f+1]]\n",
    " X2_f = X_test[:,sorted_idx[:f+1]]\n",
    " KNN.fit(X1_f,y_train)\n",
    " YKNN=KNN.predict(X2_f)\n",
    " scores[f]=np.round(accuracy_score(y_test,YKNN),3)\n",
    "plt.plot(scores)\n",
    "plt.xlabel(\"Nombre de Variables\")\n",
    "plt.ylabel(\"Accuracy\")\n",
    "plt.title(\"Evolution de l'accuracy en fonction des variables\")\n",
    "plt.show()"
   ]
  },
  {
   "cell_type": "markdown",
   "metadata": {},
   "source": [
    "## Paramétrage des classifieurs "
   ]
  },
  {
   "cell_type": "code",
   "execution_count": 23,
   "metadata": {
    "scrolled": true
   },
   "outputs": [
    {
     "name": "stdout",
     "output_type": "stream",
     "text": [
      "--------Decision tree--------\n",
      "{'criterion': 'gini', 'max_depth': 7, 'splitter': 'random'}\n",
      "accuracy  : 0.7536563071297989\n",
      "recall    : 0.7970437748720864\n",
      "precision : 0.88510101010101\n",
      "None\n",
      "--------Knn--------\n",
      "{'algorithm': 'auto', 'n_neighbors': 10, 'weights': 'distance'}\n",
      "accuracy  : 0.7774223034734917\n",
      "recall    : 0.8168688619295205\n",
      "precision : 0.8926767676767676\n",
      "None\n",
      "--------RN--------\n",
      "{'hidden_layer_sizes': (20, 10), 'max_iter': 300}\n",
      "accuracy  : 0.7714808043875686\n",
      "recall    : 0.8353960396039604\n",
      "precision : 0.8522727272727273\n",
      "None\n"
     ]
    }
   ],
   "source": [
    "from sklearn.model_selection import GridSearchCV\n",
    "\n",
    "X_train, X_test, y_train, y_test = train_test_split(X_norm, y, test_size=0.5, random_state=1)\n",
    "\n",
    "# Decision tree : \n",
    "print('--------Decision tree--------')\n",
    "clf = DecisionTreeClassifier(random_state=0)\n",
    "\n",
    "criterion = ['gini', 'entropy']\n",
    "splitter = ['best', 'random']\n",
    "max_depth = list(range(1, 31))\n",
    "param_grid = dict(criterion = criterion, splitter = splitter,max_depth = max_depth)\n",
    "\n",
    "clf = GridSearchCV(clf,param_grid,scoring= 'accuracy',return_train_score=True,n_jobs=-1)\n",
    "clf.fit(X_train,y_train)\n",
    "y_pred = clf.predict(X_test)\n",
    "print(clf.best_params_)\n",
    "print(scoring(y_pred,y_test))\n",
    "\n",
    "\n",
    "# Knn :\n",
    "print('--------Knn--------')\n",
    "neigh = KNeighborsClassifier()\n",
    "\n",
    "weights = ['uniform', 'distance']\n",
    "algorithm = ['auto', 'ball_tree', 'kd_tree', 'brute']\n",
    "n_neighbors = list(range(1, 11))\n",
    "param_grid = dict(n_neighbors=n_neighbors, weights = weights, algorithm = algorithm)\n",
    "\n",
    "neigh = GridSearchCV(neigh,param_grid,scoring= 'accuracy',return_train_score=True,n_jobs=-1)\n",
    "neigh.fit(X_train, y_train)\n",
    "y_pred = neigh.predict(X_test)\n",
    "print(neigh.best_params_)\n",
    "print(scoring(y_pred,y_test))\n",
    "\n",
    "# RN : \n",
    "print('--------RN--------')\n",
    "clf = MLPClassifier(hidden_layer_sizes = (40,20), random_state=1, max_iter=300).fit(X_train, y_train)\n",
    "\n",
    "max_iter = [300, 400]\n",
    "hidden_layer_sizes = [(40,20), (45,25),(20,10)]\n",
    "param_grid = dict(max_iter=max_iter,hidden_layer_sizes=hidden_layer_sizes)\n",
    "\n",
    "clf = GridSearchCV(clf,param_grid,scoring= 'accuracy',return_train_score=True,n_jobs=-1)\n",
    "clf.fit(X_train,y_train)\n",
    "y_pred = clf.predict(X_test)\n",
    "print(clf.best_params_)\n",
    "print(scoring(y_pred,y_test))\n"
   ]
  },
  {
   "cell_type": "markdown",
   "metadata": {},
   "source": [
    "### Conclusion\n",
    "\n",
    "Les résultats ci-dessus correspondent aux paramètres optimaux trouvés par l'algorithme dans l'ensemble de paramètres donné, ainsi que les scores obtenus pour ces paramètres.\n",
    "\n",
    "On obtient des résultats très légèrement meilleurs que les précédents (2% de précision pour le Knn et le RN), qu'on pourrait sans doute encore augmenter en élargissant la recherche des paramètres.\n",
    "\n",
    "Cependant, le temps de recherche est assez important, ce qui laisse penser qu'il serait avisé de prédire les paramètres optimaux avant la recherche pour la cibler et éviter des entrainement d'algorithmes inutiles."
   ]
  },
  {
   "cell_type": "code",
   "execution_count": 25,
   "metadata": {},
   "outputs": [],
   "source": [
    "from sklearn.pipeline import Pipeline\n",
    "\n",
    "# Pipeline généralisée :\n",
    "def pipelinemodel(classifier,X_train,y_train,X_test,y_test):\n",
    "    pipe = Pipeline(steps = [('scaler', StandardScaler()),('pca', pca), ('classifier', classifier)])\n",
    "    pipe.fit(X_train, y_train)\n",
    "    print(pipe.score(X_test, y_test))"
   ]
  },
  {
   "cell_type": "code",
   "execution_count": 26,
   "metadata": {},
   "outputs": [
    {
     "name": "stdout",
     "output_type": "stream",
     "text": [
      "0.7253199268738574\n"
     ]
    }
   ],
   "source": [
    "# Application de la pipeline à un MLP :\n",
    "\n",
    "clf = MLPClassifier(hidden_layer_sizes = (40,20), random_state=1, max_iter=300)\n",
    "\n",
    "pipelinemodel(clf,X_train,y_train,X_test,y_test)"
   ]
  },
  {
   "cell_type": "code",
   "execution_count": 27,
   "metadata": {},
   "outputs": [],
   "source": [
    "import pickle\n",
    "\n",
    "# Creation d'un Pickle : \n",
    "clf = MLPClassifier(hidden_layer_sizes = (40,20), random_state=1, max_iter=300)\n",
    "pipe = Pipeline(steps = [('scaler', StandardScaler()),('pca', pca), ('classifier', clf)])\n",
    "s = pickle.dumps(pipe)\n",
    "\n",
    "#..."
   ]
  }
 ],
 "metadata": {
  "kernelspec": {
   "display_name": "Python 3",
   "language": "python",
   "name": "python3"
  },
  "language_info": {
   "codemirror_mode": {
    "name": "ipython",
    "version": 3
   },
   "file_extension": ".py",
   "mimetype": "text/x-python",
   "name": "python",
   "nbconvert_exporter": "python",
   "pygments_lexer": "ipython3",
   "version": "3.7.6"
  }
 },
 "nbformat": 4,
 "nbformat_minor": 4
}
